{
 "cells": [
  {
   "cell_type": "markdown",
   "metadata": {
    "pycharm": {
     "name": "#%% md\n"
    }
   },
   "source": [
    "# Lab 9 Group 21\n",
    "## Group Members: (Andrew Quijano, afq2003), (Isaiah Genis | ig596), (Jamie Leach | jhl925), (Yevhen Pankevych | yp2525)"
   ]
  },
  {
   "cell_type": "markdown",
   "source": [
    "\n",
    "## Vuln 1: Improper Password validation and secure-by-default handling.\n",
    "SampleNetworkServer.py does not properly handle commands chained to invalid AUTH and Logout requests. An attacker can submit a invalid password to the AUTH command and still be allowed to execute all other commands such as SET_DEGF or UPDATE_TEMP that would impact the legitimate client. This is a direct impact on the confidentiality of the system as it can be access by anyone.\n",
    "\n",
    "This occurs on lines 59-72 in the processCommands function.\n",
    "\n",
    "The Patch for this vulnerability is to add proper error handling of invalid auth tokens to the processCommands function of SampleNetworkServer.py. See lines 13-15 of the below method\n",
    "### Exploit of Bad Password Error Handling"
   ],
   "metadata": {
    "collapsed": false,
    "pycharm": {
     "name": "#%% md\n"
    }
   }
  },
  {
   "cell_type": "code",
   "execution_count": 92,
   "outputs": [
    {
     "name": "stderr",
     "output_type": "stream",
     "text": [
      "x\n",
      "----------------------------------------------------------------------\n",
      "Ran 1 test in 0.052s\n",
      "\n",
      "OK (expected failures=1)\n"
     ]
    }
   ],
   "source": [
    "# Exploit\n",
    "import unittest\n",
    "import socket\n",
    "\n",
    "def is_number(s):\n",
    "    try:\n",
    "        float(s)\n",
    "        return True\n",
    "    except ValueError:\n",
    "        return False\n",
    "def run_specified_tests(tests:list):\n",
    "    # Run only the tests in the specified classes\n",
    "    test_classes_to_run = tests\n",
    "    loader = unittest.TestLoader()\n",
    "    suites_list = []\n",
    "    for test_class in test_classes_to_run:\n",
    "        suite = loader.loadTestsFromTestCase(test_class)\n",
    "        suites_list.append(suite)\n",
    "    big_suite = unittest.TestSuite(suites_list)\n",
    "    runner = unittest.TextTestRunner()\n",
    "    results = runner.run(big_suite)\n",
    "    return results\n",
    "\n",
    "class TestPassword(unittest.TestCase):\n",
    "    # Vuln 1 Exploit Test\n",
    "    def test_bad_password(self):\n",
    "        s_rl = socket.socket(family=socket.AF_INET, type=socket.SOCK_DGRAM)\n",
    "        input_request=b'AUTH basd;GET_TEMP'\n",
    "        s_rl.sendto(input_request, (\"127.0.0.1\", 23456))\n",
    "        output_responce, real_server_addr = s_rl.recvfrom(1024)\n",
    "        output_responce=str(output_responce.strip(),\"utf8\")\n",
    "        s_rl.close()\n",
    "        # print(output_responce)\n",
    "        self.assertFalse(is_number(output_responce),msg=\"Received Valid Temp when should have been rejected for invalid auth.\")\n",
    "if __name__ == '__main__':\n",
    "    run_specified_tests([TestPassword])"
   ],
   "metadata": {
    "collapsed": false,
    "pycharm": {
     "name": "#%%\n"
    }
   }
  },
  {
   "cell_type": "markdown",
   "source": [
    "### Patched AUTH Error Handling."
   ],
   "metadata": {
    "collapsed": false,
    "pycharm": {
     "name": "#%% md\n"
    }
   }
  },
  {
   "cell_type": "code",
   "execution_count": 85,
   "outputs": [],
   "source": [
    "# Patched Function Snippet\n",
    "import string\n",
    "import random\n",
    "\n",
    "def processCommands(self, msg, addr) :\n",
    "    cmds = msg.split(';')\n",
    "    for c in cmds :\n",
    "        cs = c.split(' ')\n",
    "        if len(cs) == 2 : #should be either AUTH or LOGOUT\n",
    "            if cs[0] == \"AUTH\":\n",
    "                if cs[1] == \"!Q#E%T&U8i6y4r2w\" :\n",
    "                    self.tokens.append(''.join(random.choice(string.ascii_uppercase + string.ascii_lowercase + string.digits) for _ in range(16)))\n",
    "                    self.serverSocket.sendto(self.tokens[-1].encode(\"utf-8\"), addr)\n",
    "                else:\n",
    "                    self.serverSocket.sendto(b\"Bad Token\\n\", addr)\n",
    "                    return\n",
    "                    #print (self.tokens[-1])\n",
    "            elif cs[0] == \"LOGOUT\":\n",
    "                if cs[1] in self.tokens :\n",
    "                    self.tokens.remove(cs[1])\n",
    "            else : #unknown command\n",
    "                self.serverSocket.sendto(b\"Invalid Command\\n\", addr)\n",
    "        elif c == \"SET_DEGF\" :\n",
    "            self.deg = \"F\"\n",
    "        elif c == \"SET_DEGC\" :\n",
    "            self.deg = \"C\"\n",
    "        elif c == \"SET_DEGK\" :\n",
    "            self.deg = \"K\"\n",
    "        elif c == \"GET_TEMP\" :\n",
    "            self.serverSocket.sendto(b\"%f\\n\" % self.getTemperature(), addr)\n",
    "        elif c == \"UPDATE_TEMP\" :\n",
    "            self.updateTemperature()\n",
    "        elif c :\n",
    "            self.serverSocket.sendto(b\"Invalid Command\\n\", addr)"
   ],
   "metadata": {
    "collapsed": false,
    "pycharm": {
     "name": "#%%\n"
    }
   }
  },
  {
   "cell_type": "markdown",
   "source": [
    "## Vuln 2: Ability to chain commands on Logout after token is revoked.\n",
    "\n",
    "Calling the Logout command should immediately suspend my access to configurations and resources. Failing to exit allows the user to maintain access to sensitive functions and information.\n",
    "\n",
    "This occurs on lines 59-72 in the processCommands function.\n",
    "\n",
    "The Patch for this vulnerability is to check that before executing any of the commands that there is a successful AUTH completed first.\n",
    "\n",
    "- Related Controls: NIST 800-53v5 AC-12(Session Termination)\n",
    "### Exploit of Logout chaining"
   ],
   "metadata": {
    "collapsed": false,
    "pycharm": {
     "name": "#%% md\n"
    }
   }
  },
  {
   "cell_type": "code",
   "execution_count": 86,
   "outputs": [
    {
     "name": "stderr",
     "output_type": "stream",
     "text": [
      "F\n",
      "======================================================================\n",
      "FAIL: test_bad_logout (__main__.TestLogout)\n",
      "----------------------------------------------------------------------\n",
      "Traceback (most recent call last):\n",
      "  File \"/var/folders/tc/3ljmtg750xz6n4_dy5k9l0mm0000gn/T/ipykernel_76397/1973513340.py\", line 21, in test_bad_logout\n",
      "    self.assertFalse(is_number(output_responce),msg=\"Received Valid Temp when should have been rejected for invalid token.\")\n",
      "AssertionError: True is not false : Received Valid Temp when should have been rejected for invalid token.\n",
      "\n",
      "----------------------------------------------------------------------\n",
      "Ran 1 test in 0.083s\n",
      "\n",
      "FAILED (failures=1)\n"
     ]
    }
   ],
   "source": [
    "#Exploit\n",
    "import unittest\n",
    "import socket\n",
    "\n",
    "\n",
    "class TestLogout(unittest.TestCase):\n",
    "     # Logout Test\n",
    "    def test_bad_logout(self):\n",
    "        s_rl = socket.socket(family=socket.AF_INET, type=socket.SOCK_DGRAM)\n",
    "        request_1 = b'AUTH !Q#E%T&U8i6y4r2w;'\n",
    "        s_rl.sendto(request_1, (\"127.0.0.1\", 23456))\n",
    "        token, real_server_addr = s_rl.recvfrom(1024)\n",
    "        token = token.strip()\n",
    "        # print(token[-1])\n",
    "        request_2 = bytes(f\"LOGOUT {token};GET_TEMP\",\"utf8\")\n",
    "        s_rl.sendto(request_2, (\"127.0.0.1\", 23456))\n",
    "        output_responce, real_server_addr = s_rl.recvfrom(1024)\n",
    "        output_responce = str(output_responce.strip(),\"utf8\")\n",
    "        s_rl.close()\n",
    "        # print(output_responce)\n",
    "        self.assertFalse(is_number(output_responce),msg=\"Received Valid Temp when should have been rejected for invalid token.\")\n",
    "# res = unittest.main(argv=[''], verbosity=3, exit=False)\n",
    "if __name__ == '__main__':\n",
    "    run_specified_tests([TestLogout])"
   ],
   "metadata": {
    "collapsed": false,
    "pycharm": {
     "name": "#%%\n"
    }
   }
  },
  {
   "cell_type": "markdown",
   "source": [
    "### Patch Logout handling"
   ],
   "metadata": {
    "collapsed": false,
    "pycharm": {
     "name": "#%% md\n"
    }
   }
  },
  {
   "cell_type": "code",
   "execution_count": 87,
   "outputs": [],
   "source": [
    "# Patched Function section.\n",
    "def processCommands(self, msg, addr):\n",
    "    cmds = msg.split(';')\n",
    "    for c in cmds:\n",
    "        cs = c.split(' ')\n",
    "        if len(cs) == 2:  # should be either AUTH or LOGOUT\n",
    "            if cs[0] == \"AUTH\":\n",
    "                if cs[1] == \"!Q#E%T&U8i6y4r2w\":\n",
    "                    self.tokens.append(''.join(\n",
    "                        random.choice(string.ascii_uppercase + string.ascii_lowercase + string.digits) for _ in\n",
    "                        range(16)))\n",
    "                    self.serverSocket.sendto(self.tokens[-1].encode(\"utf-8\"), addr)\n",
    "                else:\n",
    "                    self.serverSocket.sendto(b\"Bad Token\\n\", addr)\n",
    "                    return\n",
    "                    # print (self.tokens[-1])\n",
    "            elif cs[0] == \"LOGOUT\":\n",
    "                if cs[1] in self.tokens:\n",
    "                    self.tokens.remove(cs[1])\n",
    "                    self.serverSocket.sendto(b\"Logged Out\\n\", addr)\n",
    "                else:\n",
    "                    self.serverSocket.sendto(b\"Bad Token\\n\", addr)\n",
    "                return\n",
    "            else:  # unknown command\n",
    "                self.serverSocket.sendto(b\"Invalid Command\\n\", addr)\n",
    "        elif c == \"SET_DEGF\":\n",
    "            self.deg = \"F\"\n",
    "        elif c == \"SET_DEGC\":\n",
    "            self.deg = \"C\"\n",
    "        elif c == \"SET_DEGK\":\n",
    "            self.deg = \"K\"\n",
    "        elif c == \"GET_TEMP\":\n",
    "            self.serverSocket.sendto(b\"%f\\n\" % self.getTemperature(), addr)\n",
    "        elif c == \"UPDATE_TEMP\":\n",
    "            self.updateTemperature()\n",
    "        elif c:\n",
    "            self.serverSocket.sendto(b\"Invalid Command\\n\", addr)"
   ],
   "metadata": {
    "collapsed": false,
    "pycharm": {
     "name": "#%%\n"
    }
   }
  },
  {
   "cell_type": "markdown",
   "source": [
    "## Vuln 3: Inaccurate Incubator Temperature Reporting on unit change\n",
    "Both updateInfTemp and updateIncTemp use the same calculation for temperature regardless of what units the different systems are using. This has a direct impact on the integrity of the reporting of temperatures.\n",
    "*SampleNetworkServer.py Lines 157 & 165*\n",
    "```\n",
    "self.infTemps.append(self.infTherm.getTemperature()-273)\n",
    "self.incTemps.append(self.incTherm.getTemperature()-273)\n",
    "```\n",
    "This causes inconsistencies in the reporting of temperatures. This not only can cause unintended temperature changes in the incubator, but also causes the graph to not display the lines, as the values fall out of the visibile range, which would make it hard for a medical professional to monitor.\n",
    "\n",
    "\n"
   ],
   "metadata": {
    "collapsed": false,
    "pycharm": {
     "name": "#%% md\n"
    }
   }
  },
  {
   "cell_type": "code",
   "execution_count": 88,
   "outputs": [
    {
     "name": "stderr",
     "output_type": "stream",
     "text": [
      ".\n",
      "----------------------------------------------------------------------\n",
      "Ran 1 test in 0.287s\n",
      "\n",
      "OK\n"
     ]
    }
   ],
   "source": [
    "\n",
    "#Exploit\n",
    "import unittest\n",
    "import socket\n",
    "\n",
    "class TestUnitChange(unittest.TestCase):\n",
    "    # Unit change Test\n",
    "    def test_unit_change(self):\n",
    "        s_rl = socket.socket(family=socket.AF_INET, type=socket.SOCK_DGRAM)\n",
    "        request_1=b'AUTH !asd;GET_TEMP'\n",
    "        s_rl.sendto(request_1, (\"127.0.0.1\", 23457))\n",
    "        output_responce, real_server_addr = s_rl.recvfrom(1024)\n",
    "        deg_k=float(output_responce.strip())\n",
    "        # print(f\"deg kelvin={deg_k}\")\n",
    "        input_request=b'AUTH sad;SET_DEGF'\n",
    "        s_rl.sendto(input_request, (\"127.0.0.1\", 23457))\n",
    "        # output_responce, real_server_addr = s_rl.recvfrom(1024)\n",
    "        s_rl.sendto(request_1, (\"127.0.0.1\", 23457))\n",
    "        output_responce, real_server_addr = s_rl.recvfrom(1024)\n",
    "        deg_f=float(output_responce.strip())\n",
    "        # print(f\"deg f start={deg_f}\")\n",
    "        request_2=b'AUTH sad;SET_DEGC'\n",
    "        # request_3=b'AUTH sad;GET_TEMP'\n",
    "        s_rl.sendto(input_request, (\"127.0.0.1\", 23457))\n",
    "        s_rl.sendto(input_request, (\"127.0.0.1\", 23457))\n",
    "        s_rl.sendto(request_1, (\"127.0.0.1\", 23457))\n",
    "        s_rl.sendto(request_2, (\"127.0.0.1\", 23457))\n",
    "        s_rl.sendto(request_1, (\"127.0.0.1\", 23457))\n",
    "        output_responce, real_server_addr = s_rl.recvfrom(1024)\n",
    "        s_rl.close()\n",
    "        deg_f2=float(output_responce.strip())\n",
    "        # print(f\"deg f2={deg_f2}\")\n",
    "        self.assertAlmostEqual(deg_f,deg_f2, places=0,msg=\"Temperature shouldn't change much in time it takes to call SET_DEGF twice\")\n",
    "if __name__ == '__main__':\n",
    "    run_specified_tests([TestUnitChange])"
   ],
   "metadata": {
    "collapsed": false,
    "pycharm": {
     "name": "#%%\n"
    }
   }
  },
  {
   "cell_type": "markdown",
   "source": [
    "# Vuln 4: Lack of ability to confirm set units.\n",
    "There is no public facing command to retrieve the units set despite having the commands to set the units at any time. Temperatures without a unit give little context to a medical professional. An attacker could change the units without the other party knowing using Vulns 1 and 2 and cause the medical professional to respond inappropriately as they have lost integrity of their configurations and the availability they should have gained by being able to set they dynamically. Further the command to set the units does not return any sort of confirmation or status leaving those callers often hanging awaiting a response and/or unsure of the outcome. This gaps This could lead to clients DoSing the client with the SET_DEG commands.\n",
    "\n",
    "The remediation is to add code to the server that everytime the client requests the temperature, the units are returned as well."
   ],
   "metadata": {
    "collapsed": false,
    "pycharm": {
     "name": "#%% md\n"
    }
   }
  },
  {
   "cell_type": "markdown",
   "source": [
    "\n",
    "## Vuln 5: Vulnerable to Decode Exceptions\n",
    "The server is asssuming that the client would only send utf-8 encoded strings to the server.\n",
    "If a malicious/reckless client sent say utf-16 string, it will cause a decoding exception on the server.\n",
    "The server is unable to handle this, so it will crash, causing an availability issue.\n",
    "\n",
    "The vulnerability is found within run function (line 88), where the payload from the client is decoded.\n",
    "\n",
    "The easiest fix would be to add under line 116 the ability to catch UnicodeDecodeError exceptions. When handling this exception, the server could sent the client the message, \"Bad Command\" or something of that nature.\n",
    "### Exploit of Decode Vuln"
   ],
   "metadata": {
    "collapsed": false,
    "pycharm": {
     "name": "#%% md\n"
    }
   }
  },
  {
   "cell_type": "code",
   "execution_count": 89,
   "outputs": [
    {
     "ename": "AttributeError",
     "evalue": "module 'unittest' has no attribute 'countTestCases'",
     "output_type": "error",
     "traceback": [
      "\u001B[0;31m---------------------------------------------------------------------------\u001B[0m",
      "\u001B[0;31mAttributeError\u001B[0m                            Traceback (most recent call last)",
      "\u001B[0;32m/var/folders/tc/3ljmtg750xz6n4_dy5k9l0mm0000gn/T/ipykernel_76397/1481912796.py\u001B[0m in \u001B[0;36m<cell line: 5>\u001B[0;34m()\u001B[0m\n\u001B[1;32m      3\u001B[0m \u001B[0;32mimport\u001B[0m \u001B[0munittest\u001B[0m\u001B[0;34m\u001B[0m\u001B[0;34m\u001B[0m\u001B[0m\n\u001B[1;32m      4\u001B[0m \u001B[0;32mimport\u001B[0m \u001B[0msocket\u001B[0m\u001B[0;34m\u001B[0m\u001B[0;34m\u001B[0m\u001B[0m\n\u001B[0;32m----> 5\u001B[0;31m \u001B[0;32mclass\u001B[0m \u001B[0mTestDecode\u001B[0m\u001B[0;34m(\u001B[0m\u001B[0munittest\u001B[0m\u001B[0;34m.\u001B[0m\u001B[0mTestCase\u001B[0m\u001B[0;34m)\u001B[0m\u001B[0;34m:\u001B[0m\u001B[0;34m\u001B[0m\u001B[0;34m\u001B[0m\u001B[0m\n\u001B[0m\u001B[1;32m      6\u001B[0m     \u001B[0;34m@\u001B[0m\u001B[0munittest\u001B[0m\u001B[0;34m.\u001B[0m\u001B[0mskipIf\u001B[0m\u001B[0;34m(\u001B[0m\u001B[0munittest\u001B[0m\u001B[0;34m.\u001B[0m\u001B[0mcountTestCases\u001B[0m\u001B[0;34m(\u001B[0m\u001B[0;34m)\u001B[0m\u001B[0;34m>\u001B[0m\u001B[0;36m1\u001B[0m\u001B[0;34m)\u001B[0m\u001B[0;34m\u001B[0m\u001B[0;34m\u001B[0m\u001B[0m\n\u001B[1;32m      7\u001B[0m     \u001B[0;32mdef\u001B[0m \u001B[0mtest_decode_exception\u001B[0m\u001B[0;34m(\u001B[0m\u001B[0mself\u001B[0m\u001B[0;34m)\u001B[0m\u001B[0;34m:\u001B[0m\u001B[0;34m\u001B[0m\u001B[0;34m\u001B[0m\u001B[0m\n",
      "\u001B[0;32m/var/folders/tc/3ljmtg750xz6n4_dy5k9l0mm0000gn/T/ipykernel_76397/1481912796.py\u001B[0m in \u001B[0;36mTestDecode\u001B[0;34m()\u001B[0m\n\u001B[1;32m      4\u001B[0m \u001B[0;32mimport\u001B[0m \u001B[0msocket\u001B[0m\u001B[0;34m\u001B[0m\u001B[0;34m\u001B[0m\u001B[0m\n\u001B[1;32m      5\u001B[0m \u001B[0;32mclass\u001B[0m \u001B[0mTestDecode\u001B[0m\u001B[0;34m(\u001B[0m\u001B[0munittest\u001B[0m\u001B[0;34m.\u001B[0m\u001B[0mTestCase\u001B[0m\u001B[0;34m)\u001B[0m\u001B[0;34m:\u001B[0m\u001B[0;34m\u001B[0m\u001B[0;34m\u001B[0m\u001B[0m\n\u001B[0;32m----> 6\u001B[0;31m     \u001B[0;34m@\u001B[0m\u001B[0munittest\u001B[0m\u001B[0;34m.\u001B[0m\u001B[0mskipIf\u001B[0m\u001B[0;34m(\u001B[0m\u001B[0munittest\u001B[0m\u001B[0;34m.\u001B[0m\u001B[0mcountTestCases\u001B[0m\u001B[0;34m(\u001B[0m\u001B[0;34m)\u001B[0m\u001B[0;34m>\u001B[0m\u001B[0;36m1\u001B[0m\u001B[0;34m)\u001B[0m\u001B[0;34m\u001B[0m\u001B[0;34m\u001B[0m\u001B[0m\n\u001B[0m\u001B[1;32m      7\u001B[0m     \u001B[0;32mdef\u001B[0m \u001B[0mtest_decode_exception\u001B[0m\u001B[0;34m(\u001B[0m\u001B[0mself\u001B[0m\u001B[0;34m)\u001B[0m\u001B[0;34m:\u001B[0m\u001B[0;34m\u001B[0m\u001B[0;34m\u001B[0m\u001B[0m\n\u001B[1;32m      8\u001B[0m         \u001B[0ms_rl\u001B[0m \u001B[0;34m=\u001B[0m \u001B[0msocket\u001B[0m\u001B[0;34m.\u001B[0m\u001B[0msocket\u001B[0m\u001B[0;34m(\u001B[0m\u001B[0mfamily\u001B[0m\u001B[0;34m=\u001B[0m\u001B[0msocket\u001B[0m\u001B[0;34m.\u001B[0m\u001B[0mAF_INET\u001B[0m\u001B[0;34m,\u001B[0m \u001B[0mtype\u001B[0m\u001B[0;34m=\u001B[0m\u001B[0msocket\u001B[0m\u001B[0;34m.\u001B[0m\u001B[0mSOCK_DGRAM\u001B[0m\u001B[0;34m)\u001B[0m\u001B[0;34m\u001B[0m\u001B[0;34m\u001B[0m\u001B[0m\n",
      "\u001B[0;32m/usr/local/Cellar/python@3.9/3.9.13_1/Frameworks/Python.framework/Versions/3.9/lib/python3.9/unittest/__init__.py\u001B[0m in \u001B[0;36m__getattr__\u001B[0;34m(name)\u001B[0m\n\u001B[1;32m     93\u001B[0m         \u001B[0;32mfrom\u001B[0m \u001B[0;34m.\u001B[0m\u001B[0masync_case\u001B[0m \u001B[0;32mimport\u001B[0m \u001B[0mIsolatedAsyncioTestCase\u001B[0m\u001B[0;34m\u001B[0m\u001B[0;34m\u001B[0m\u001B[0m\n\u001B[1;32m     94\u001B[0m         \u001B[0;32mreturn\u001B[0m \u001B[0mIsolatedAsyncioTestCase\u001B[0m\u001B[0;34m\u001B[0m\u001B[0;34m\u001B[0m\u001B[0m\n\u001B[0;32m---> 95\u001B[0;31m     \u001B[0;32mraise\u001B[0m \u001B[0mAttributeError\u001B[0m\u001B[0;34m(\u001B[0m\u001B[0;34mf\"module {__name__!r} has no attribute {name!r}\"\u001B[0m\u001B[0;34m)\u001B[0m\u001B[0;34m\u001B[0m\u001B[0;34m\u001B[0m\u001B[0m\n\u001B[0m",
      "\u001B[0;31mAttributeError\u001B[0m: module 'unittest' has no attribute 'countTestCases'"
     ]
    }
   ],
   "source": [
    "#### Exploit for Decode\n",
    "\n",
    "import unittest\n",
    "import socket\n",
    "class TestDecode(unittest.TestCase):\n",
    "    def test_decode_exception(self):\n",
    "        s_rl = socket.socket(family=socket.AF_INET, type=socket.SOCK_DGRAM)\n",
    "        request_1 = 'AUTH ϼϽϾϿ'.encode('utf-16')\n",
    "        s_rl.sendto(request_1, (\"127.0.0.1\", 23456))\n",
    "        token, real_server_addr = s_rl.recvfrom(1024)\n",
    "        token = token.strip()\n",
    "\n",
    "if __name__ == '__main__':\n",
    "    run_specified_tests([TestDecode])"
   ],
   "metadata": {
    "collapsed": false,
    "pycharm": {
     "name": "#%%\n"
    }
   }
  },
  {
   "cell_type": "markdown",
   "source": [
    "### Patch of Decode Vuln"
   ],
   "metadata": {
    "collapsed": false,
    "pycharm": {
     "name": "#%% md\n"
    }
   }
  },
  {
   "cell_type": "code",
   "execution_count": null,
   "outputs": [],
   "source": [
    "#### Updated Run Function\n",
    "\n",
    "    def run(self) : # fthe running function\n",
    "        while True : \n",
    "            try :\n",
    "                msg, addr = self.serverSocket.recvfrom(1024)\n",
    "                msg = msg.decode(\"utf-8\").strip()\n",
    "                cmds = msg.split(' ')\n",
    "                if len(cmds) == 1 : # protected commands case\n",
    "                    semi = msg.find(';')\n",
    "                    if semi != -1 : #if we found the semicolon\n",
    "                        #print (msg)\n",
    "                        if msg[:semi] in self.tokens : #if its a valid token\n",
    "                            self.processCommands(msg[semi+1:], addr)\n",
    "                        else :\n",
    "                            self.serverSocket.sendto(b\"Bad Token\\n\", addr)\n",
    "                    else :\n",
    "                            self.serverSocket.sendto(b\"Bad Command\\n\", addr)\n",
    "                elif len(cmds) == 2 :\n",
    "                    if cmds[0] in self.open_cmds : #if its AUTH or LOGOUT\n",
    "                        self.processCommands(msg, addr) \n",
    "                    else :\n",
    "                        self.serverSocket.sendto(b\"Authenticate First\\n\", addr)\n",
    "                else :\n",
    "                    # otherwise bad command\n",
    "                    self.serverSocket.sendto(b\"Bad Command\\n\", addr)\n",
    "    \n",
    "            except IOError as e :\n",
    "                if e.errno == errno.EWOULDBLOCK :\n",
    "                    #do nothing\n",
    "                    pass\n",
    "                else :\n",
    "                    #do nothing for now\n",
    "                    pass\n",
    "                msg = \"\"\n",
    "            # Handle Decode issues\n",
    "            except UnicodeDecodeError:\n",
    "                self.serverSocket.sendto(b\"Bad Command, Invalid encoding\\n\", addr)\n",
    " \n",
    "\n",
    "            self.updateTemperature()\n",
    "            time.sleep(self.updatePeriod)\n"
   ],
   "metadata": {
    "collapsed": false,
    "pycharm": {
     "name": "#%%\n"
    }
   }
  },
  {
   "cell_type": "markdown",
   "source": [],
   "metadata": {
    "collapsed": false,
    "pycharm": {
     "name": "#%% md\n"
    }
   }
  },
  {
   "cell_type": "markdown",
   "source": [
    "## Vuln 6: Server is unable to safely catch Keyboard Interrupts.\n",
    "When the server receives a SIGINT (CTRL + C), the server will crash unexpectedly. This is a bug as in secure programming, we should not have any unhandled exceptions.\n",
    "\n",
    "The issue is not specific to a line of code. However the quickest way to fix this is under line 116 to add the ability to catch KeyBoardIntterupt Exception. In the exception block, either break out of the while loop or use pass to ignore it. If you want to be more thorough, there could be a signal handler imported to handle SIGINT and all other signals that could be received.\n",
    "### Patch of Keyboard Interrupt Handling"
   ],
   "metadata": {
    "collapsed": false,
    "pycharm": {
     "name": "#%% md\n"
    }
   }
  },
  {
   "cell_type": "code",
   "execution_count": null,
   "outputs": [],
   "source": [
    "#### Updated Run Function\n",
    "\n",
    "    def run(self) : #the running function\n",
    "        while True : \n",
    "            try :\n",
    "                msg, addr = self.serverSocket.recvfrom(1024)\n",
    "                msg = msg.decode(\"utf-8\").strip()\n",
    "                cmds = msg.split(' ')\n",
    "                if len(cmds) == 1 : # protected commands case\n",
    "                    semi = msg.find(';')\n",
    "                    if semi != -1 : #if we found the semicolon\n",
    "                        #print (msg)\n",
    "                        if msg[:semi] in self.tokens : #if its a valid token\n",
    "                            self.processCommands(msg[semi+1:], addr)\n",
    "                        else :\n",
    "                            self.serverSocket.sendto(b\"Bad Token\\n\", addr)\n",
    "                    else :\n",
    "                            self.serverSocket.sendto(b\"Bad Command\\n\", addr)\n",
    "                elif len(cmds) == 2 :\n",
    "                    if cmds[0] in self.open_cmds : #if its AUTH or LOGOUT\n",
    "                        self.processCommands(msg, addr) \n",
    "                    else :\n",
    "                        self.serverSocket.sendto(b\"Authenticate First\\n\", addr)\n",
    "                else :\n",
    "                    # otherwise bad command\n",
    "                    self.serverSocket.sendto(b\"Bad Command\\n\", addr)\n",
    "    \n",
    "            except IOError as e :\n",
    "                if e.errno == errno.EWOULDBLOCK :\n",
    "                    #do nothing\n",
    "                    pass\n",
    "                else :\n",
    "                    #do nothing for now\n",
    "                    pass\n",
    "                msg = \"\"\n",
    "            # Handle SIGINT\n",
    "            except KeyboardInterrupt:\n",
    "                self.serverSocket.sendto(b\"Server received SIGINT, closing\\n\", addr)\n",
    "                break\n",
    "                \n",
    "            self.updateTemperature()\n",
    "            time.sleep(self.updatePeriod)\n"
   ],
   "metadata": {
    "collapsed": false,
    "pycharm": {
     "name": "#%%\n"
    }
   }
  },
  {
   "cell_type": "code",
   "execution_count": 90,
   "outputs": [
    {
     "name": "stderr",
     "output_type": "stream",
     "text": [
      "FFF\n",
      "======================================================================\n",
      "FAIL: test_bad_password (__main__.TestPassword)\n",
      "----------------------------------------------------------------------\n",
      "Traceback (most recent call last):\n",
      "  File \"/var/folders/tc/3ljmtg750xz6n4_dy5k9l0mm0000gn/T/ipykernel_76397/2613504411.py\", line 34, in test_bad_password\n",
      "    self.assertFalse(is_number(output_responce),msg=\"Received Valid Temp when should have been rejected for invalid auth.\")\n",
      "AssertionError: True is not false : Received Valid Temp when should have been rejected for invalid auth.\n",
      "\n",
      "======================================================================\n",
      "FAIL: test_bad_logout (__main__.TestLogout)\n",
      "----------------------------------------------------------------------\n",
      "Traceback (most recent call last):\n",
      "  File \"/var/folders/tc/3ljmtg750xz6n4_dy5k9l0mm0000gn/T/ipykernel_76397/1973513340.py\", line 21, in test_bad_logout\n",
      "    self.assertFalse(is_number(output_responce),msg=\"Received Valid Temp when should have been rejected for invalid token.\")\n",
      "AssertionError: True is not false : Received Valid Temp when should have been rejected for invalid token.\n",
      "\n",
      "======================================================================\n",
      "FAIL: test_unit_change (__main__.TestUnitChange)\n",
      "----------------------------------------------------------------------\n",
      "Traceback (most recent call last):\n",
      "  File \"/var/folders/tc/3ljmtg750xz6n4_dy5k9l0mm0000gn/T/ipykernel_76397/3444163386.py\", line 32, in test_unit_change\n",
      "    self.assertAlmostEqual(deg_f,deg_f2, places=0,msg=\"Temperature shouldn't change much in time it takes to call SET_DEGF twice\")\n",
      "AssertionError: 112.73332 != 113.358185 within 0 places (0.6248649999999998 difference) : Temperature shouldn't change much in time it takes to call SET_DEGF twice\n",
      "\n",
      "----------------------------------------------------------------------\n",
      "Ran 3 tests in 0.443s\n",
      "\n",
      "FAILED (failures=3)\n"
     ]
    }
   ],
   "source": [
    "#Consolidated Tests\n",
    "\n",
    "if __name__ == '__main__':\n",
    "    run_specified_tests([TestPassword,TestLogout,TestUnitChange])"
   ],
   "metadata": {
    "collapsed": false,
    "pycharm": {
     "name": "#%%\n"
    }
   }
  },
  {
   "cell_type": "code",
   "execution_count": null,
   "outputs": [],
   "source": [],
   "metadata": {
    "collapsed": false,
    "pycharm": {
     "name": "#%%\n"
    }
   }
  }
 ],
 "metadata": {
  "kernelspec": {
   "display_name": "Python 3",
   "language": "python",
   "name": "python3"
  },
  "language_info": {
   "codemirror_mode": {
    "name": "ipython",
    "version": 3
   },
   "file_extension": ".py",
   "mimetype": "text/x-python",
   "name": "python",
   "nbconvert_exporter": "python",
   "pygments_lexer": "ipython3",
   "version": "3.8.5"
  }
 },
 "nbformat": 4,
 "nbformat_minor": 1
}
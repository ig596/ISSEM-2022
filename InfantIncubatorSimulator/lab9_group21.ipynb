{
 "cells": [
  {
   "cell_type": "markdown",
   "source": [
    "# Lab 9 Group 21\n"
   ],
   "metadata": {
    "collapsed": false,
    "pycharm": {
     "name": "#%% md\n"
    }
   }
  },
  {
   "cell_type": "markdown",
   "source": [
    "### New Vuln 1 :Improper Password validation and secure-by-default handling.\n",
    "SampleNetworkServer.py does not properly handle commands chained to invalid AUTH and Logout requests. An attacker can submit a invalid password to the AUTH command and still be allowed to execute all other commands such as SET_DEGF or UPDATE_TEMP that would impact the legitimate client.\n",
    "### New Vuln 2: Inaccurate Incubator Temperature Reporting on unit change\n",
    "Both updateInfTemp and updateIncTemp use the same calculator for temperature regardless of what units the different systems are using causing inconsistencies in the reporting of temperatures."
   ],
   "metadata": {
    "collapsed": false,
    "pycharm": {
     "name": "#%% md\n"
    }
   }
  },
  {
   "cell_type": "code",
   "execution_count": 40,
   "outputs": [
    {
     "name": "stderr",
     "output_type": "stream",
     "text": [
      "test_unit_change (__main__.TestExploits) ... "
     ]
    },
    {
     "name": "stdout",
     "output_type": "stream",
     "text": [
      "deg kelvin=73.805282\n",
      "deg f=164.86457\n"
     ]
    },
    {
     "name": "stderr",
     "output_type": "stream",
     "text": [
      "FAIL\n",
      "\n",
      "======================================================================\n",
      "FAIL: test_unit_change (__main__.TestExploits)\n",
      "----------------------------------------------------------------------\n",
      "Traceback (most recent call last):\n",
      "  File \"/var/folders/tc/3ljmtg750xz6n4_dy5k9l0mm0000gn/T/ipykernel_63586/761996333.py\", line 46, in test_unit_change\n",
      "    self.assertNotAlmostEqual(deg_k,deg_c,places=0,msg=\"Reported Temp in K and C should not be the same.\")\n",
      "AssertionError: 73.805282 == 73.82463 within 0 places : Reported Temp in K and C should not be the same.\n",
      "\n",
      "----------------------------------------------------------------------\n",
      "Ran 1 test in 7.743s\n",
      "\n",
      "FAILED (failures=1)\n"
     ]
    },
    {
     "name": "stdout",
     "output_type": "stream",
     "text": [
      "deg celcius=73.82463\n"
     ]
    }
   ],
   "source": [
    "#Exploit\n",
    "import unittest\n",
    "import socket\n",
    "\n",
    "def is_number(s):\n",
    "    try:\n",
    "        float(s)\n",
    "        return True\n",
    "    except ValueError:\n",
    "        return False\n",
    "\n",
    "class TestExploits(unittest.TestCase):\n",
    "    # Vuln 1 Exploit Test\n",
    "    def test_bad_password(self):\n",
    "        s_rl = socket.socket(family=socket.AF_INET, type=socket.SOCK_DGRAM)\n",
    "        input_request=b'AUTH basd;GET_TEMP;'\n",
    "        s_rl.sendto(input_request, (\"127.0.0.1\", 23456))\n",
    "        output_responce, real_server_addr = s_rl.recvfrom(1024)\n",
    "        output_responce=str(output_responce.strip(),\"utf8\")\n",
    "        s_rl.close()\n",
    "        print(output_responce)\n",
    "        self.assertFalse(is_number(output_responce),msg=\"Received Valid Temp when should have been rejected for invalid auth.\")\n",
    "    # Vuln 2 Unit change Test\n",
    "    def test_unit_change(self):\n",
    "        s_rl = socket.socket(family=socket.AF_INET, type=socket.SOCK_DGRAM)\n",
    "        request_1=b'AUTH basd;GET_TEMP;'\n",
    "        s_rl.sendto(request_1, (\"127.0.0.1\", 23457))\n",
    "        output_responce, real_server_addr = s_rl.recvfrom(1024)\n",
    "        deg_k=float(output_responce.strip())\n",
    "        print(f\"deg kelvin={deg_k}\")\n",
    "        input_request=b'AUTH basd;SET_DEGF'\n",
    "        s_rl.sendto(input_request, (\"127.0.0.1\", 23457))\n",
    "        # output_responce, real_server_addr = s_rl.recvfrom(1024)\n",
    "        s_rl.sendto(request_1, (\"127.0.0.1\", 23457))\n",
    "        output_responce, real_server_addr = s_rl.recvfrom(1024)\n",
    "        deg_f=float(output_responce.strip())\n",
    "        print(f\"deg f={deg_f}\")\n",
    "        request_3=b'AUTH basd;SET_DEGC;'\n",
    "        s_rl.sendto(request_3, (\"127.0.0.1\", 23457))\n",
    "        s_rl.sendto(request_1, (\"127.0.0.1\", 23457))\n",
    "        output_responce, real_server_addr = s_rl.recvfrom(1024)\n",
    "        s_rl.close()\n",
    "        deg_c=float(output_responce.strip())\n",
    "        print(f\"deg celcius={deg_c}\")\n",
    "        self.assertNotAlmostEqual(deg_c,deg_f,places=0,msg=\"Reported Temp in F and C should not be the same.\")\n",
    "        self.assertNotAlmostEqual(deg_k,deg_c,places=0,msg=\"Reported Temp in K and C should not be the same.\")\n",
    "        self.assertNotAlmostEqual(deg_k,deg_f,places=0,msg=\"Reported Temp in K and F should not be the same.\")\n",
    "\n",
    "\n",
    "\n",
    "res = unittest.main(argv=[''], verbosity=3, exit=False)\n"
   ],
   "metadata": {
    "collapsed": false,
    "pycharm": {
     "name": "#%%\n"
    }
   }
  },
  {
   "cell_type": "code",
   "execution_count": 40,
   "outputs": [],
   "source": [],
   "metadata": {
    "collapsed": false,
    "pycharm": {
     "name": "#%%\n"
    }
   }
  }
 ],
 "metadata": {
  "kernelspec": {
   "display_name": "Python 3",
   "language": "python",
   "name": "python3"
  },
  "language_info": {
   "codemirror_mode": {
    "name": "ipython",
    "version": 2
   },
   "file_extension": ".py",
   "mimetype": "text/x-python",
   "name": "python",
   "nbconvert_exporter": "python",
   "pygments_lexer": "ipython2",
   "version": "2.7.6"
  }
 },
 "nbformat": 4,
 "nbformat_minor": 0
}
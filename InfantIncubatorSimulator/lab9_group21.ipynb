{
 "cells": [
  {
   "cell_type": "markdown",
   "source": [
    "# Lab 9 Group 21\n"
   ],
   "metadata": {
    "collapsed": false,
    "pycharm": {
     "name": "#%% md\n"
    }
   }
  },
  {
   "cell_type": "markdown",
   "source": [
    "\n",
    "### New Vuln 1 :Improper Password validation and secure-by-default handling.\n",
    "SampleNetworkServer.py does not properly handle commands chained to invalid AUTH and Logout requests. An attacker can submit a invalid password to the AUTH command and still be allowed to execute all other commands such as SET_DEGF or UPDATE_TEMP that would impact the legitimate client. This is a direct impact on the confidentiality of the system as it can be access by anyone.\n",
    "### New Vuln 2: Inaccurate Incubator Temperature Reporting on unit change\n",
    "Both updateInfTemp and updateIncTemp use the same calculation for temperature regardless of what units the different systems are using. This has a direct impact on the integrity of the reporting of temperatures.\n",
    "*SampleNetworkServer.py Lines 157 & 165*\n",
    "```\n",
    "self.infTemps.append(self.infTherm.getTemperature()-273)\n",
    "self.incTemps.append(self.incTherm.getTemperature()-273)\n",
    "```\n",
    "This causes inconsistencies in the reporting of temperatures. This not only can cause unintended temperature changes in the incubator, but also causes the graph to not display the lines, as the values fall out of the visibile range, which would make it hard for a medical professional to monitor.\n",
    "\n",
    "### New Vuln 3: Lack of ability to confirm set units.\n",
    "There is no public facing command to retrieve the units set despite having the commands to set the units at any time. Temperatures without a unit give little context to a medical professional. An attacker could change the units without the other party knowing using Vulns 1 and 2 and cause the medical professional to respond inappropriately as they have lost integrity of their configurations and the availability they should have gained by being able to set they dynamically. Further the command to set the units does not return any sort of confirmation or status leaving those callers often hanging awaiting a response and/or unsure of the outcome. This gaps This could lead to clients DoSing the client with the SET_DEG commands."
   ],
   "metadata": {
    "collapsed": false,
    "pycharm": {
     "name": "#%% md\n"
    }
   }
  },
  {
   "cell_type": "code",
   "execution_count": 45,
   "outputs": [
    {
     "name": "stderr",
     "output_type": "stream",
     "text": [
      "test_bad_password (__main__.TestExploits) ... FAIL\n",
      "test_unit_change (__main__.TestExploits) ... "
     ]
    },
    {
     "name": "stdout",
     "output_type": "stream",
     "text": [
      "deg kelvin=74.267842\n",
      "deg f=165.682984\n"
     ]
    },
    {
     "name": "stderr",
     "output_type": "stream",
     "text": [
      "FAIL\n",
      "\n",
      "======================================================================\n",
      "FAIL: test_bad_password (__main__.TestExploits)\n",
      "----------------------------------------------------------------------\n",
      "Traceback (most recent call last):\n",
      "  File \"/var/folders/tc/3ljmtg750xz6n4_dy5k9l0mm0000gn/T/ipykernel_63586/781501239.py\", line 22, in test_bad_password\n",
      "    self.assertFalse(is_number(output_responce),msg=\"Received Valid Temp when should have been rejected for invalid auth.\")\n",
      "AssertionError: True is not false : Received Valid Temp when should have been rejected for invalid auth.\n",
      "\n",
      "======================================================================\n",
      "FAIL: test_unit_change (__main__.TestExploits)\n",
      "----------------------------------------------------------------------\n",
      "Traceback (most recent call last):\n",
      "  File \"/var/folders/tc/3ljmtg750xz6n4_dy5k9l0mm0000gn/T/ipykernel_63586/781501239.py\", line 46, in test_unit_change\n",
      "    self.assertNotAlmostEqual(deg_k,deg_c,places=0,msg=\"Reported Temp in K and C should not be the same.\")\n",
      "AssertionError: 74.267842 == 74.268808 within 0 places : Reported Temp in K and C should not be the same.\n",
      "\n",
      "----------------------------------------------------------------------\n",
      "Ran 2 tests in 0.270s\n",
      "\n",
      "FAILED (failures=2)\n"
     ]
    },
    {
     "name": "stdout",
     "output_type": "stream",
     "text": [
      "deg celcius=74.268808\n"
     ]
    }
   ],
   "source": [
    "#Exploit\n",
    "import unittest\n",
    "import socket\n",
    "\n",
    "def is_number(s):\n",
    "    try:\n",
    "        float(s)\n",
    "        return True\n",
    "    except ValueError:\n",
    "        return False\n",
    "\n",
    "class TestExploits(unittest.TestCase):\n",
    "    # Vuln 1 Exploit Test\n",
    "    def test_bad_password(self):\n",
    "        s_rl = socket.socket(family=socket.AF_INET, type=socket.SOCK_DGRAM)\n",
    "        input_request=b'AUTH basd;GET_TEMP'\n",
    "        s_rl.sendto(input_request, (\"127.0.0.1\", 23456))\n",
    "        output_responce, real_server_addr = s_rl.recvfrom(1024)\n",
    "        output_responce=str(output_responce.strip(),\"utf8\")\n",
    "        s_rl.close()\n",
    "        # print(output_responce)\n",
    "        self.assertFalse(is_number(output_responce),msg=\"Received Valid Temp when should have been rejected for invalid auth.\")\n",
    "    # Vuln 2 Unit change Test\n",
    "    def test_unit_change(self):\n",
    "        s_rl = socket.socket(family=socket.AF_INET, type=socket.SOCK_DGRAM)\n",
    "        request_1=b'AUTH basd;GET_TEMP'\n",
    "        s_rl.sendto(request_1, (\"127.0.0.1\", 23457))\n",
    "        output_responce, real_server_addr = s_rl.recvfrom(1024)\n",
    "        deg_k=float(output_responce.strip())\n",
    "        print(f\"deg kelvin={deg_k}\")\n",
    "        input_request=b'AUTH basd;SET_DEGF'\n",
    "        s_rl.sendto(input_request, (\"127.0.0.1\", 23457))\n",
    "        # output_responce, real_server_addr = s_rl.recvfrom(1024)\n",
    "        s_rl.sendto(request_1, (\"127.0.0.1\", 23457))\n",
    "        output_responce, real_server_addr = s_rl.recvfrom(1024)\n",
    "        deg_f=float(output_responce.strip())\n",
    "        print(f\"deg f={deg_f}\")\n",
    "        request_3=b'AUTH basd;SET_DEGC'\n",
    "        s_rl.sendto(request_3, (\"127.0.0.1\", 23457))\n",
    "        s_rl.sendto(request_1, (\"127.0.0.1\", 23457))\n",
    "        output_responce, real_server_addr = s_rl.recvfrom(1024)\n",
    "        s_rl.close()\n",
    "        deg_c=float(output_responce.strip())\n",
    "        print(f\"deg celcius={deg_c}\")\n",
    "        self.assertNotAlmostEqual(deg_c,deg_f,places=0,msg=\"Reported Temp in F and C should not be the same.\")\n",
    "        self.assertNotAlmostEqual(deg_k,deg_c,places=0,msg=\"Reported Temp in K and C should not be the same.\")\n",
    "        self.assertNotAlmostEqual(deg_k,deg_f,places=0,msg=\"Reported Temp in K and F should not be the same.\")\n",
    "\n",
    "\n",
    "\n",
    "res = unittest.main(argv=[''], verbosity=3, exit=False)"
   ],
   "metadata": {
    "collapsed": false,
    "pycharm": {
     "name": "#%%\n"
    }
   }
  },
  {
   "cell_type": "code",
   "execution_count": 45,
   "outputs": [],
   "source": [],
   "metadata": {
    "collapsed": false,
    "pycharm": {
     "name": "#%%\n"
    }
   }
  }
 ],
 "metadata": {
  "kernelspec": {
   "display_name": "Python 3",
   "language": "python",
   "name": "python3"
  },
  "language_info": {
   "codemirror_mode": {
    "name": "ipython",
    "version": 2
   },
   "file_extension": ".py",
   "mimetype": "text/x-python",
   "name": "python",
   "nbconvert_exporter": "python",
   "pygments_lexer": "ipython2",
   "version": "2.7.6"
  }
 },
 "nbformat": 4,
 "nbformat_minor": 0
}
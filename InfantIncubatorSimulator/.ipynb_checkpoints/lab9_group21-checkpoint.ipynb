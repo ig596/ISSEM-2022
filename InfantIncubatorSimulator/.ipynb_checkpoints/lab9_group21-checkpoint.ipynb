{
 "cells": [
  {
   "cell_type": "markdown",
   "metadata": {
    "pycharm": {
     "name": "#%% md\n"
    }
   },
   "source": [
    "# Lab 9 Group 21\n"
   ]
  },
  {
   "cell_type": "markdown",
   "metadata": {
    "pycharm": {
     "name": "#%% md\n"
    }
   },
   "source": [
    "\n",
    "### Vuln 1: Improper Password validation and secure-by-default handling.\n",
    "SampleNetworkServer.py does not properly handle commands chained to invalid AUTH and Logout requests. An attacker can submit a invalid password to the AUTH command and still be allowed to execute all other commands such as SET_DEGF or UPDATE_TEMP that would impact the legitimate client. This is a direct impact on the confidentiality of the system as it can be access by anyone.\n",
    "\n",
    "This occurs on lines 59-72 in the processCommands function.\n",
    "\n",
    "The Patch for this vulnerability is to add proper error handling of invalid auth tokens to the processCommands function of SampleNetworkServer.py. See lines 13-15 of the below method\n"
   ]
  },
  {
   "cell_type": "code",
   "execution_count": 1,
   "metadata": {
    "pycharm": {
     "name": "#%%\n"
    }
   },
   "outputs": [
    {
     "name": "stderr",
     "output_type": "stream",
     "text": [
      "test_bad_password (__main__.TestExploits) ... ERROR\n",
      "C:\\Users\\Andrew\\anaconda3\\lib\\unittest\\case.py:704: ResourceWarning: unclosed <socket.socket fd=1464, family=AddressFamily.AF_INET, type=SocketKind.SOCK_DGRAM, proto=0, laddr=('0.0.0.0', 53018)>\n",
      "  outcome.errors.clear()\n",
      "ResourceWarning: Enable tracemalloc to get the object allocation traceback\n",
      "\n",
      "======================================================================\n",
      "ERROR: test_bad_password (__main__.TestExploits)\n",
      "----------------------------------------------------------------------\n",
      "Traceback (most recent call last):\n",
      "  File \"<ipython-input-1-733809dc909d>\", line 18, in test_bad_password\n",
      "    output_responce, real_server_addr = s_rl.recvfrom(1024)\n",
      "ConnectionResetError: [WinError 10054] An existing connection was forcibly closed by the remote host\n",
      "\n",
      "----------------------------------------------------------------------\n",
      "Ran 1 test in 0.008s\n",
      "\n",
      "FAILED (errors=1)\n"
     ]
    }
   ],
   "source": [
    "# Exploit\n",
    "import unittest\n",
    "import socket\n",
    "\n",
    "def is_number(s):\n",
    "    try:\n",
    "        float(s)\n",
    "        return True\n",
    "    except ValueError:\n",
    "        return False\n",
    "\n",
    "class TestExploits(unittest.TestCase):\n",
    "    # Vuln 1 Exploit Test\n",
    "    def test_bad_password(self):\n",
    "        s_rl = socket.socket(family=socket.AF_INET, type=socket.SOCK_DGRAM)\n",
    "        input_request=b'AUTH basd;GET_TEMP'\n",
    "        s_rl.sendto(input_request, (\"127.0.0.1\", 23456))\n",
    "        output_responce, real_server_addr = s_rl.recvfrom(1024)\n",
    "        output_responce=str(output_responce.strip(),\"utf8\")\n",
    "        s_rl.close()\n",
    "        print(output_responce)\n",
    "        self.assertFalse(is_number(output_responce),msg=\"Received Valid Temp when should have been rejected for invalid auth.\")\n",
    "res = unittest.main(argv=[''], verbosity=5, exit=False)"
   ]
  },
  {
   "cell_type": "code",
   "execution_count": null,
   "metadata": {
    "pycharm": {
     "name": "#%%\n"
    }
   },
   "outputs": [],
   "source": [
    "# Patched Function Snippet\n",
    "import string\n",
    "import random\n",
    "\n",
    "def processCommands(self, msg, addr) :\n",
    "    cmds = msg.split(';')\n",
    "    for c in cmds :\n",
    "        cs = c.split(' ')\n",
    "        if len(cs) == 2 : #should be either AUTH or LOGOUT\n",
    "            if cs[0] == \"AUTH\":\n",
    "                if cs[1] == \"!Q#E%T&U8i6y4r2w\" :\n",
    "                    self.tokens.append(''.join(random.choice(string.ascii_uppercase + string.ascii_lowercase + string.digits) for _ in range(16)))\n",
    "                    self.serverSocket.sendto(self.tokens[-1].encode(\"utf-8\"), addr)\n",
    "                else:\n",
    "                    self.serverSocket.sendto(b\"Bad Token\\n\", addr)\n",
    "                    return\n",
    "                    #print (self.tokens[-1])\n",
    "            elif cs[0] == \"LOGOUT\":\n",
    "                if cs[1] in self.tokens :\n",
    "                    self.tokens.remove(cs[1])\n",
    "            else : #unknown command\n",
    "                self.serverSocket.sendto(b\"Invalid Command\\n\", addr)\n",
    "        elif c == \"SET_DEGF\" :\n",
    "            self.deg = \"F\"\n",
    "        elif c == \"SET_DEGC\" :\n",
    "            self.deg = \"C\"\n",
    "        elif c == \"SET_DEGK\" :\n",
    "            self.deg = \"K\"\n",
    "        elif c == \"GET_TEMP\" :\n",
    "            self.serverSocket.sendto(b\"%f\\n\" % self.getTemperature(), addr)\n",
    "        elif c == \"UPDATE_TEMP\" :\n",
    "            self.updateTemperature()\n",
    "        elif c :\n",
    "            self.serverSocket.sendto(b\"Invalid Command\\n\", addr)"
   ]
  },
  {
   "cell_type": "markdown",
   "metadata": {
    "pycharm": {
     "name": "#%% md\n"
    }
   },
   "source": [
    "### Vuln 2: Ability to chain commands on Logout after token is revoked.\n",
    "\n",
    "Calling the Logout command should immediately suspend my access to configurations and resources. Failing to exit allows the user to maintain access to sensitive functions and information."
   ]
  },
  {
   "cell_type": "code",
   "execution_count": null,
   "metadata": {
    "pycharm": {
     "name": "#%%\n"
    }
   },
   "outputs": [],
   "source": [
    "#Exploit\n",
    "import unittest\n",
    "import socket\n",
    "\n",
    "def is_number(s):\n",
    "    try:\n",
    "        float(s)\n",
    "        return True\n",
    "    except ValueError:\n",
    "        return False\n",
    "\n",
    "class TestExploits(unittest.TestCase):\n",
    "     # Logout Test\n",
    "    def test_bad_logout(self):\n",
    "        s_rl = socket.socket(family=socket.AF_INET, type=socket.SOCK_DGRAM)\n",
    "        request_1 = b'AUTH !Q#E%T&U8i6y4r2w;'\n",
    "        s_rl.sendto(request_1, (\"127.0.0.1\", 23456))\n",
    "        token, real_server_addr = s_rl.recvfrom(1024)\n",
    "        token = token.strip()\n",
    "        print(token[-1])\n",
    "        request_2 = bytes(f\"LOGOUT {token};GET_TEMP\",\"utf8\")\n",
    "        s_rl.sendto(request_2, (\"127.0.0.1\", 23456))\n",
    "        output_responce, real_server_addr = s_rl.recvfrom(1024)\n",
    "        output_responce = str(output_responce.strip(),\"utf8\")\n",
    "        s_rl.close()\n",
    "        print(output_responce)\n",
    "        self.assertFalse(is_number(output_responce),msg=\"Received Valid Temp when should have been rejected for invalid token.\")\n",
    "res = unittest.main(argv=[''], verbosity=3, exit=False)"
   ]
  },
  {
   "cell_type": "code",
   "execution_count": null,
   "metadata": {
    "pycharm": {
     "name": "#%%\n"
    }
   },
   "outputs": [],
   "source": [
    "# Patched Function section.\n",
    "def processCommands(self, msg, addr):\n",
    "    cmds = msg.split(';')\n",
    "    for c in cmds:\n",
    "        cs = c.split(' ')\n",
    "        if len(cs) == 2:  # should be either AUTH or LOGOUT\n",
    "            if cs[0] == \"AUTH\":\n",
    "                if cs[1] == \"!Q#E%T&U8i6y4r2w\":\n",
    "                    self.tokens.append(''.join(\n",
    "                        random.choice(string.ascii_uppercase + string.ascii_lowercase + string.digits) for _ in\n",
    "                        range(16)))\n",
    "                    self.serverSocket.sendto(self.tokens[-1].encode(\"utf-8\"), addr)\n",
    "                else:\n",
    "                    self.serverSocket.sendto(b\"Bad Token\\n\", addr)\n",
    "                    return\n",
    "                    # print (self.tokens[-1])\n",
    "            elif cs[0] == \"LOGOUT\":\n",
    "                if cs[1] in self.tokens:\n",
    "                    self.tokens.remove(cs[1])\n",
    "                    self.serverSocket.sendto(b\"Logged Out\\n\", addr)\n",
    "                else:\n",
    "                    self.serverSocket.sendto(b\"Bad Token\\n\", addr)\n",
    "                return\n",
    "            else:  # unknown command\n",
    "                self.serverSocket.sendto(b\"Invalid Command\\n\", addr)\n",
    "        elif c == \"SET_DEGF\":\n",
    "            self.deg = \"F\"\n",
    "        elif c == \"SET_DEGC\":\n",
    "            self.deg = \"C\"\n",
    "        elif c == \"SET_DEGK\":\n",
    "            self.deg = \"K\"\n",
    "        elif c == \"GET_TEMP\":\n",
    "            self.serverSocket.sendto(b\"%f\\n\" % self.getTemperature(), addr)\n",
    "        elif c == \"UPDATE_TEMP\":\n",
    "            self.updateTemperature()\n",
    "        elif c:\n",
    "            self.serverSocket.sendto(b\"Invalid Command\\n\", addr)"
   ]
  },
  {
   "cell_type": "markdown",
   "metadata": {
    "pycharm": {
     "name": "#%% md\n"
    }
   },
   "source": [
    "## Additional Vulns\n",
    "### Vuln 3: Inaccurate Incubator Temperature Reporting on unit change\n",
    "Both updateInfTemp and updateIncTemp use the same calculation for temperature regardless of what units the different systems are using. This has a direct impact on the integrity of the reporting of temperatures.\n",
    "*SampleNetworkServer.py Lines 157 & 165*\n",
    "```\n",
    "self.infTemps.append(self.infTherm.getTemperature()-273)\n",
    "self.incTemps.append(self.incTherm.getTemperature()-273)\n",
    "```\n",
    "This causes inconsistencies in the reporting of temperatures. This not only can cause unintended temperature changes in the incubator, but also causes the graph to not display the lines, as the values fall out of the visibile range, which would make it hard for a medical professional to monitor.\n",
    "\n",
    "### Vuln 4: Vulnerable to Decode Exceptions\n",
    "The server is asssuming that the client would only send utf-8 encoded strings to the server. \n",
    "If a malicious/reckless client sent say utf-16 string, it will cause a decoding exception on the server.\n",
    "The server is unable to handle this, so it will crash, causing an availability issue."
   ]
  },
  {
   "cell_type": "code",
   "execution_count": 4,
   "metadata": {},
   "outputs": [],
   "source": [
    "#### Exploit for Decode\n",
    "\n",
    "import unittest\n",
    "import socket\n",
    "\n",
    "class TestExploits(unittest.TestCase):\n",
    "    def test_decode_exception(self):\n",
    "        s_rl = socket.socket(family=socket.AF_INET, type=socket.SOCK_DGRAM)\n",
    "        request_1 = 'AUTH ϼϽϾϿ'.encode('utf-16')\n",
    "        s_rl.sendto(request_1, (\"127.0.0.1\", 23456))\n",
    "        token, real_server_addr = s_rl.recvfrom(1024)\n",
    "        token = token.strip()\n"
   ]
  },
  {
   "cell_type": "code",
   "execution_count": null,
   "metadata": {},
   "outputs": [],
   "source": [
    "#### Exploit for Decode\n",
    "ϼ"
   ]
  },
  {
   "cell_type": "code",
   "execution_count": 24,
   "metadata": {
    "pycharm": {
     "name": "#%%\n"
    }
   },
   "outputs": [
    {
     "name": "stderr",
     "output_type": "stream",
     "text": [
      "test_unit_change (__main__.TestExploits) ... "
     ]
    },
    {
     "name": "stdout",
     "output_type": "stream",
     "text": [
      "deg kelvin=318.195069\n",
      "deg f start=112.465343\n"
     ]
    },
    {
     "name": "stderr",
     "output_type": "stream",
     "text": [
      "FAIL\n",
      "\n",
      "======================================================================\n",
      "FAIL: test_unit_change (__main__.TestExploits)\n",
      "----------------------------------------------------------------------\n",
      "Traceback (most recent call last):\n",
      "  File \"/var/folders/tc/3ljmtg750xz6n4_dy5k9l0mm0000gn/T/ipykernel_70551/3484735211.py\", line 32, in test_unit_change\n",
      "    self.assertAlmostEqual(deg_f,deg_f2, places=0,msg=\"Temperature shouldn't change much in time it takes to call SET_DEGF twice\")\n",
      "AssertionError: 112.465343 != 114.299532 within 0 places (1.834188999999995 difference) : Temperature shouldn't change much in time it takes to call SET_DEGF twice\n",
      "\n",
      "----------------------------------------------------------------------\n",
      "Ran 1 test in 0.287s\n",
      "\n",
      "FAILED (failures=1)\n"
     ]
    },
    {
     "name": "stdout",
     "output_type": "stream",
     "text": [
      "deg f2=114.299532\n"
     ]
    }
   ],
   "source": [
    "\n",
    "#Exploit\n",
    "import unittest\n",
    "import socket\n",
    "\n",
    "class TestExploits(unittest.TestCase):\n",
    "    # Unit change Test\n",
    "    def test_unit_change(self):\n",
    "        s_rl = socket.socket(family=socket.AF_INET, type=socket.SOCK_DGRAM)\n",
    "        request_1=b'AUTH !asd;GET_TEMP'\n",
    "        s_rl.sendto(request_1, (\"127.0.0.1\", 23457))\n",
    "        output_responce, real_server_addr = s_rl.recvfrom(1024)\n",
    "        deg_k=float(output_responce.strip())\n",
    "        print(f\"deg kelvin={deg_k}\")\n",
    "        input_request=b'AUTH sad;SET_DEGF'\n",
    "        s_rl.sendto(input_request, (\"127.0.0.1\", 23457))\n",
    "        # output_responce, real_server_addr = s_rl.recvfrom(1024)\n",
    "        s_rl.sendto(request_1, (\"127.0.0.1\", 23457))\n",
    "        output_responce, real_server_addr = s_rl.recvfrom(1024)\n",
    "        deg_f=float(output_responce.strip())\n",
    "        print(f\"deg f start={deg_f}\")\n",
    "        request_2=b'AUTH sad;SET_DEGC'\n",
    "        # request_3=b'AUTH sad;GET_TEMP'\n",
    "        s_rl.sendto(input_request, (\"127.0.0.1\", 23457))\n",
    "        s_rl.sendto(input_request, (\"127.0.0.1\", 23457))\n",
    "        s_rl.sendto(request_1, (\"127.0.0.1\", 23457))\n",
    "        s_rl.sendto(request_2, (\"127.0.0.1\", 23457))\n",
    "        s_rl.sendto(request_1, (\"127.0.0.1\", 23457))\n",
    "        output_responce, real_server_addr = s_rl.recvfrom(1024)\n",
    "        s_rl.close()\n",
    "        deg_f2=float(output_responce.strip())\n",
    "        print(f\"deg f2={deg_f2}\")\n",
    "        self.assertAlmostEqual(deg_f,deg_f2, places=0,msg=\"Temperature shouldn't change much in time it takes to call SET_DEGF twice\")\n",
    "\n",
    "\n",
    "\n",
    "res = unittest.main(argv=[''], verbosity=3, exit=False)"
   ]
  },
  {
   "cell_type": "markdown",
   "metadata": {
    "pycharm": {
     "name": "#%% md\n"
    }
   },
   "source": [
    "# Vuln 4: Lack of ability to confirm set units.\n",
    "There is no public facing command to retrieve the units set despite having the commands to set the units at any time. Temperatures without a unit give little context to a medical professional. An attacker could change the units without the other party knowing using Vulns 1 and 2 and cause the medical professional to respond inappropriately as they have lost integrity of their configurations and the availability they should have gained by being able to set they dynamically. Further the command to set the units does not return any sort of confirmation or status leaving those callers often hanging awaiting a response and/or unsure of the outcome. This gaps This could lead to clients DoSing the client with the SET_DEG commands.\n"
   ]
  },
  {
   "cell_type": "code",
   "execution_count": 25,
   "metadata": {
    "pycharm": {
     "name": "#%%\n"
    }
   },
   "outputs": [
    {
     "name": "stderr",
     "output_type": "stream",
     "text": [
      "test_bad_logout (__main__.TestExploits) ... FAIL\n",
      "test_bad_password (__main__.TestExploits) ... FAIL\n",
      "test_unit_change (__main__.TestExploits) ... "
     ]
    },
    {
     "name": "stdout",
     "output_type": "stream",
     "text": [
      "112\n",
      "309.415220\n",
      "309.417047\n",
      "deg kelvin=318.222816\n"
     ]
    },
    {
     "name": "stderr",
     "output_type": "stream",
     "text": [
      "FAIL\n",
      "\n",
      "======================================================================\n",
      "FAIL: test_bad_logout (__main__.TestExploits)\n",
      "----------------------------------------------------------------------\n",
      "Traceback (most recent call last):\n",
      "  File \"/var/folders/tc/3ljmtg750xz6n4_dy5k9l0mm0000gn/T/ipykernel_70551/85892664.py\", line 39, in test_bad_logout\n",
      "    self.assertFalse(is_number(output_responce),msg=\"Received Valid Temp when should have been rejected for invalid token.\")\n",
      "AssertionError: True is not false : Received Valid Temp when should have been rejected for invalid token.\n",
      "\n",
      "======================================================================\n",
      "FAIL: test_bad_password (__main__.TestExploits)\n",
      "----------------------------------------------------------------------\n",
      "Traceback (most recent call last):\n",
      "  File \"/var/folders/tc/3ljmtg750xz6n4_dy5k9l0mm0000gn/T/ipykernel_70551/85892664.py\", line 24, in test_bad_password\n",
      "    self.assertFalse(is_number(output_responce),msg=\"Received Valid Temp when should have been rejected for invalid auth.\")\n",
      "AssertionError: True is not false : Received Valid Temp when should have been rejected for invalid auth.\n",
      "\n",
      "======================================================================\n",
      "FAIL: test_unit_change (__main__.TestExploits)\n",
      "----------------------------------------------------------------------\n",
      "Traceback (most recent call last):\n",
      "  File \"/var/folders/tc/3ljmtg750xz6n4_dy5k9l0mm0000gn/T/ipykernel_70551/85892664.py\", line 65, in test_unit_change\n",
      "    self.assertAlmostEqual(deg_f,deg_f2, places=0,msg=\"Temperature shouldn't change much in time it takes to call SET_DEGF twice\")\n",
      "AssertionError: 113.387841 != 113.993623 within 0 places (0.6057820000000049 difference) : Temperature shouldn't change much in time it takes to call SET_DEGF twice\n",
      "\n",
      "----------------------------------------------------------------------\n",
      "Ran 3 tests in 0.451s\n",
      "\n",
      "FAILED (failures=3)\n"
     ]
    },
    {
     "name": "stdout",
     "output_type": "stream",
     "text": [
      "deg f start=113.387841\n",
      "deg f2=113.993623\n"
     ]
    }
   ],
   "source": [
    "# Consolidated Testcases\n",
    "\n",
    "# Exploit\n",
    "import unittest\n",
    "import socket\n",
    "\n",
    "def is_number(s):\n",
    "    try:\n",
    "        float(s)\n",
    "        return True\n",
    "    except ValueError:\n",
    "        return False\n",
    "\n",
    "class TestExploits(unittest.TestCase):\n",
    "    # Vuln 1 Exploit Test\n",
    "    def test_bad_password(self):\n",
    "        s_rl = socket.socket(family=socket.AF_INET, type=socket.SOCK_DGRAM)\n",
    "        input_request=b'AUTH basd;GET_TEMP'\n",
    "        s_rl.sendto(input_request, (\"127.0.0.1\", 23456))\n",
    "        output_responce, real_server_addr = s_rl.recvfrom(1024)\n",
    "        output_responce=str(output_responce.strip(),\"utf8\")\n",
    "        s_rl.close()\n",
    "        print(output_responce)\n",
    "        self.assertFalse(is_number(output_responce),msg=\"Received Valid Temp when should have been rejected for invalid auth.\")\n",
    "     # Logout Test\n",
    "    def test_bad_logout(self):\n",
    "        s_rl = socket.socket(family=socket.AF_INET, type=socket.SOCK_DGRAM)\n",
    "        request_1=b'AUTH !Q#E%T&U8i6y4r2w;'\n",
    "        s_rl.sendto(request_1, (\"127.0.0.1\", 23456))\n",
    "        token, real_server_addr = s_rl.recvfrom(1024)\n",
    "        token=token.strip()\n",
    "        print(token[-1])\n",
    "        request_2=bytes(f\"LOGOUT {token};GET_TEMP\",\"utf8\")\n",
    "        s_rl.sendto(request_2, (\"127.0.0.1\", 23456))\n",
    "        output_responce, real_server_addr = s_rl.recvfrom(1024)\n",
    "        output_responce=str(output_responce.strip(),\"utf8\")\n",
    "        s_rl.close()\n",
    "        print(output_responce)\n",
    "        self.assertFalse(is_number(output_responce),msg=\"Received Valid Temp when should have been rejected for invalid token.\")\n",
    "    def test_unit_change(self):\n",
    "        s_rl = socket.socket(family=socket.AF_INET, type=socket.SOCK_DGRAM)\n",
    "        request_1=b'AUTH !asd;GET_TEMP'\n",
    "        s_rl.sendto(request_1, (\"127.0.0.1\", 23457))\n",
    "        output_responce, real_server_addr = s_rl.recvfrom(1024)\n",
    "        deg_k=float(output_responce.strip())\n",
    "        print(f\"deg kelvin={deg_k}\")\n",
    "        input_request=b'AUTH sad;SET_DEGF'\n",
    "        s_rl.sendto(input_request, (\"127.0.0.1\", 23457))\n",
    "        # output_responce, real_server_addr = s_rl.recvfrom(1024)\n",
    "        s_rl.sendto(request_1, (\"127.0.0.1\", 23457))\n",
    "        output_responce, real_server_addr = s_rl.recvfrom(1024)\n",
    "        deg_f=float(output_responce.strip())\n",
    "        print(f\"deg f start={deg_f}\")\n",
    "        request_2=b'AUTH sad;SET_DEGC'\n",
    "        # request_3=b'AUTH sad;GET_TEMP'\n",
    "        s_rl.sendto(input_request, (\"127.0.0.1\", 23457))\n",
    "        s_rl.sendto(input_request, (\"127.0.0.1\", 23457))\n",
    "        s_rl.sendto(request_1, (\"127.0.0.1\", 23457))\n",
    "        s_rl.sendto(request_2, (\"127.0.0.1\", 23457))\n",
    "        s_rl.sendto(request_1, (\"127.0.0.1\", 23457))\n",
    "        output_responce, real_server_addr = s_rl.recvfrom(1024)\n",
    "        s_rl.close()\n",
    "        deg_f2=float(output_responce.strip())\n",
    "        print(f\"deg f2={deg_f2}\")\n",
    "        self.assertAlmostEqual(deg_f,deg_f2, places=0,msg=\"Temperature shouldn't change much in time it takes to call SET_DEGF twice\")\n",
    "\n",
    "res = unittest.main(argv=[''], verbosity=5, exit=False)"
   ]
  },
  {
   "cell_type": "code",
   "execution_count": null,
   "metadata": {
    "pycharm": {
     "name": "#%%\n"
    }
   },
   "outputs": [],
   "source": []
  }
 ],
 "metadata": {
  "kernelspec": {
   "display_name": "Python 3",
   "language": "python",
   "name": "python3"
  },
  "language_info": {
   "codemirror_mode": {
    "name": "ipython",
    "version": 3
   },
   "file_extension": ".py",
   "mimetype": "text/x-python",
   "name": "python",
   "nbconvert_exporter": "python",
   "pygments_lexer": "ipython3",
   "version": "3.8.5"
  }
 },
 "nbformat": 4,
 "nbformat_minor": 1
}
